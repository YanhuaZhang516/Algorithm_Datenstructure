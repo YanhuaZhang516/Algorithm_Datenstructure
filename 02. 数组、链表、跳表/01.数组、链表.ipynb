{
 "cells": [
  {
   "cell_type": "code",
   "execution_count": 1,
   "metadata": {},
   "outputs": [],
   "source": [
    "import numpy as np"
   ]
  },
  {
   "cell_type": "markdown",
   "metadata": {},
   "source": [
    "# Python 中数组"
   ]
  },
  {
   "cell_type": "code",
   "execution_count": 25,
   "metadata": {},
   "outputs": [
    {
     "name": "stdout",
     "output_type": "stream",
     "text": [
      "[1, 2, 3, 4, 5, 'hello', 'world']\n",
      "(1, 2, 3, 4)\n"
     ]
    }
   ],
   "source": [
    "# python 中数组\n",
    "\n",
    "# list (可混和类型)\n",
    "data1 = [1,2,3,4,5,'hello','world']\n",
    "print(data1)\n",
    "\n",
    "# tuple 不允许修改，只能读\n",
    "data11 = (1,2,3,4)\n",
    "print(data11)\n"
   ]
  },
  {
   "cell_type": "code",
   "execution_count": 8,
   "metadata": {},
   "outputs": [
    {
     "name": "stdout",
     "output_type": "stream",
     "text": [
      "[2, 3]\n",
      "[2, 3, 4, 5, 'hello', 'world']\n",
      "[1, 2, 3]\n",
      "[1, 3, 5, 'world']\n",
      "[2, 4, 'hello']\n"
     ]
    }
   ],
   "source": [
    "# 分片\n",
    "print(data1[1:3])\n",
    "print(data1[1:])\n",
    "print(data1[:3])\n",
    "print(data1[::2]) # 索引为偶数的元素值\n",
    "print(data1[1::2]) # 索引为奇数的元素值"
   ]
  },
  {
   "cell_type": "code",
   "execution_count": 26,
   "metadata": {},
   "outputs": [
    {
     "name": "stdout",
     "output_type": "stream",
     "text": [
      "world\n",
      "[1, 2, 3, 4, 5, 'hello']\n"
     ]
    }
   ],
   "source": [
    "# python中数组也可以使用栈的操作\n",
    "print(data1.pop())# 弹出最后一个元素（删掉）\n",
    "print(data1)"
   ]
  },
  {
   "cell_type": "code",
   "execution_count": 27,
   "metadata": {},
   "outputs": [
    {
     "name": "stdout",
     "output_type": "stream",
     "text": [
      "[1, 2, 3, 4, 5, 'hello', 'world']\n",
      "[1, 2, '888', 3, 4, 5, 'hello', 'world']\n"
     ]
    }
   ],
   "source": [
    "# 末尾添加\n",
    "data1.append('world')\n",
    "print(data1)\n",
    "\n",
    "# 指定位置插入\n",
    "data1.insert(2,'888')\n",
    "print(data1)"
   ]
  },
  {
   "cell_type": "code",
   "execution_count": 28,
   "metadata": {},
   "outputs": [
    {
     "name": "stdout",
     "output_type": "stream",
     "text": [
      "[1, 2, 3, 4, 5, 'hello', 'world']\n"
     ]
    }
   ],
   "source": [
    "# 移除\n",
    "data1.remove('888') # 输入移除的元素\n",
    "print(data1)"
   ]
  },
  {
   "cell_type": "markdown",
   "metadata": {},
   "source": [
    "## Python中链表"
   ]
  },
  {
   "cell_type": "code",
   "execution_count": null,
   "metadata": {},
   "outputs": [],
   "source": []
  }
 ],
 "metadata": {
  "kernelspec": {
   "display_name": "Python 3",
   "language": "python",
   "name": "python3"
  },
  "language_info": {
   "codemirror_mode": {
    "name": "ipython",
    "version": 3
   },
   "file_extension": ".py",
   "mimetype": "text/x-python",
   "name": "python",
   "nbconvert_exporter": "python",
   "pygments_lexer": "ipython3",
   "version": "3.6.8"
  }
 },
 "nbformat": 4,
 "nbformat_minor": 2
}
